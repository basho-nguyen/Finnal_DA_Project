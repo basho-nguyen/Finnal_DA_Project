{
  "nbformat": 4,
  "nbformat_minor": 0,
  "metadata": {
    "colab": {
      "provenance": [],
      "authorship_tag": "ABX9TyNjLgD6nc5goL0M/btuLiU6",
      "include_colab_link": true
    },
    "kernelspec": {
      "name": "python3",
      "display_name": "Python 3"
    },
    "language_info": {
      "name": "python"
    }
  },
  "cells": [
    {
      "cell_type": "markdown",
      "metadata": {
        "id": "view-in-github",
        "colab_type": "text"
      },
      "source": [
        "<a href=\"https://colab.research.google.com/github/basho-nguyen/Finnal_DA_Project/blob/main/Finnall_Project.ipynb\" target=\"_parent\"><img src=\"https://colab.research.google.com/assets/colab-badge.svg\" alt=\"Open In Colab\"/></a>"
      ]
    },
    {
      "cell_type": "markdown",
      "source": [
        "# I. ETL PROCESS"
      ],
      "metadata": {
        "id": "hRQRA9oP6cXz"
      }
    },
    {
      "cell_type": "markdown",
      "source": [
        "Import các thư viện cần thiết trong quá trình xử lý dữ liệu, visualize"
      ],
      "metadata": {
        "id": "foqp7k0YpULA"
      }
    },
    {
      "cell_type": "code",
      "source": [
        "import pandas as pd\n",
        "import numpy as np\n",
        "import matplotlib.pyplot as plt\n",
        "import seaborn as sns\n",
        "import statsmodels.api as sm\n",
        "from statsmodels.formula.api import ols\n",
        "import statsmodels.api as sm\n",
        "from statsmodels.formula.api import ols\n",
        "from sqlalchemy import create_engine\n",
        "!pip install pymysql\n",
        "import pymysql"
      ],
      "metadata": {
        "id": "IPTM3g6EyO_t"
      },
      "execution_count": 29,
      "outputs": []
    },
    {
      "cell_type": "markdown",
      "source": [
        "Load data từ file exel vào data frame"
      ],
      "metadata": {
        "id": "snbaM_TkLX3i"
      }
    },
    {
      "cell_type": "code",
      "source": [
        "campaigns = pd.read_excel('advertising-data.xlsx', sheet_name='Campaigns')\n",
        "ads = pd.read_excel('advertising-data.xlsx', sheet_name='Ad')\n",
        "metrics = pd.read_excel('advertising-data.xlsx', sheet_name='Metrics')\n",
        "targets = pd.read_excel('advertising-data.xlsx', sheet_name='Targets')\n",
        "\n",
        "\n",
        "\n"
      ],
      "metadata": {
        "id": "hOEguRtQyWEJ"
      },
      "execution_count": 2,
      "outputs": []
    },
    {
      "cell_type": "markdown",
      "source": [
        "Kiểm tra dữ liệu\n"
      ],
      "metadata": {
        "id": "VkD_f3BNM4d7"
      }
    },
    {
      "cell_type": "code",
      "source": [
        "campaigns.info()\n",
        "ads.info()\n",
        "metrics.info()\n",
        "targets.info()\n"
      ],
      "metadata": {
        "colab": {
          "base_uri": "https://localhost:8080/"
        },
        "id": "Emu2T839phr5",
        "outputId": "935e876e-27ca-4647-f07b-33133d6805d6"
      },
      "execution_count": 3,
      "outputs": [
        {
          "output_type": "stream",
          "name": "stdout",
          "text": [
            "<class 'pandas.core.frame.DataFrame'>\n",
            "RangeIndex: 41 entries, 0 to 40\n",
            "Data columns (total 5 columns):\n",
            " #   Column               Non-Null Count  Dtype         \n",
            "---  ------               --------------  -----         \n",
            " 0   Campaign ID          41 non-null     object        \n",
            " 1   Channel              41 non-null     object        \n",
            " 2   Campaign Name        41 non-null     object        \n",
            " 3   Campaign time start  41 non-null     datetime64[ns]\n",
            " 4   Campaign time end    41 non-null     datetime64[ns]\n",
            "dtypes: datetime64[ns](2), object(3)\n",
            "memory usage: 1.7+ KB\n",
            "<class 'pandas.core.frame.DataFrame'>\n",
            "RangeIndex: 168 entries, 0 to 167\n",
            "Data columns (total 3 columns):\n",
            " #   Column       Non-Null Count  Dtype \n",
            "---  ------       --------------  ----- \n",
            " 0   Ad ID        168 non-null    int64 \n",
            " 1   Campaign ID  168 non-null    object\n",
            " 2   Type         168 non-null    object\n",
            "dtypes: int64(1), object(2)\n",
            "memory usage: 4.1+ KB\n",
            "<class 'pandas.core.frame.DataFrame'>\n",
            "RangeIndex: 716 entries, 0 to 715\n",
            "Data columns (total 9 columns):\n",
            " #   Column       Non-Null Count  Dtype         \n",
            "---  ------       --------------  -----         \n",
            " 0   Metric ID    716 non-null    object        \n",
            " 1   Ad ID        716 non-null    int64         \n",
            " 2   Day          716 non-null    datetime64[ns]\n",
            " 3   Spend        716 non-null    float64       \n",
            " 4   Impressions  716 non-null    int64         \n",
            " 5   Average CPM  637 non-null    float64       \n",
            " 6   Clicks       535 non-null    float64       \n",
            " 7   Lead         138 non-null    float64       \n",
            " 8   CPL          138 non-null    float64       \n",
            "dtypes: datetime64[ns](1), float64(5), int64(2), object(1)\n",
            "memory usage: 50.5+ KB\n",
            "<class 'pandas.core.frame.DataFrame'>\n",
            "RangeIndex: 1549 entries, 0 to 1548\n",
            "Data columns (total 4 columns):\n",
            " #   Column       Non-Null Count  Dtype \n",
            "---  ------       --------------  ----- \n",
            " 0   Ad Set ID    1549 non-null   int64 \n",
            " 1   Campaign ID  1549 non-null   object\n",
            " 2   Age          1549 non-null   object\n",
            " 3   Gender       1549 non-null   object\n",
            "dtypes: int64(1), object(3)\n",
            "memory usage: 48.5+ KB\n"
          ]
        }
      ]
    },
    {
      "cell_type": "markdown",
      "source": [
        "Audit type of data\n",
        "\n",
        "*   Campaign ID: object -> string\n",
        "*   Gender -> category\n",
        "*   Campaign name -> string\n",
        "*   Type -> category\n",
        "*   Channel -> category\n",
        "\n",
        "\n",
        "\n",
        "\n",
        "\n",
        "\n",
        "\n"
      ],
      "metadata": {
        "id": "7C1r0PZTp3ow"
      }
    },
    {
      "cell_type": "code",
      "source": [
        "campaigns['Campaign ID'] = campaigns['Campaign ID'].astype('string')\n",
        "campaigns['Campaign Name'] = campaigns['Campaign Name'].astype('string')\n",
        "campaigns['Channel'] = campaigns['Channel'].astype('category')\n",
        "\n",
        "ads['Campaign ID'] = ads['Campaign ID'].astype('string')\n",
        "ads['Type'] = ads['Type'].astype('category')\n",
        "ads['Ad ID'] = ads['Ad ID'].astype('string')\n",
        "\n",
        "\n",
        "metrics['Metric ID'] = metrics['Metric ID'].astype('string')\n",
        "metrics['Ad ID'] = metrics['Ad ID'].astype('string')\n",
        "\n",
        "targets['Campaign ID'] = targets['Campaign ID'].astype('string')\n",
        "targets['Gender'] = targets['Gender'].astype('category')\n",
        "targets['Age'] = targets['Age'].astype('string')\n",
        "targets['Ad Set ID'] =  targets['Ad Set ID'].astype('string')\n",
        "\n"
      ],
      "metadata": {
        "id": "3si-Pz9sq44y"
      },
      "execution_count": 21,
      "outputs": []
    },
    {
      "cell_type": "markdown",
      "source": [
        "Với bảng Metrics\n",
        "Cần thêm trường CTR, CPC\n"
      ],
      "metadata": {
        "id": "Kyft6QGdsTNP"
      }
    },
    {
      "cell_type": "code",
      "source": [
        "metrics['Avg CTR'] = metrics['Clicks'] / metrics['Impressions']*100\n",
        "metrics['Avg CTR'].replace(np.inf, np.nan, inplace=True)\n",
        "metrics['Avg CPC'] = metrics['Spend'] / metrics['Clicks']\n",
        "metrics['Avg CPC'].replace(np.inf, np.nan, inplace=True)\n",
        "metrics['CR'] = metrics['Lead'] / metrics['Clicks']\n",
        "metrics['CR'].replace(np.inf, np.nan, inplace=True)"
      ],
      "metadata": {
        "id": "IBxsy425sbFP"
      },
      "execution_count": 22,
      "outputs": []
    },
    {
      "cell_type": "markdown",
      "source": [
        "Check lại data"
      ],
      "metadata": {
        "id": "p0dKnQNGtm5U"
      }
    },
    {
      "cell_type": "code",
      "source": [
        "metrics.head(10)\n",
        "metrics.info()"
      ],
      "metadata": {
        "colab": {
          "base_uri": "https://localhost:8080/"
        },
        "id": "-wRWUmBYs2Tt",
        "outputId": "4ae41c30-e335-4255-c7c6-4fef0fe3f1d8"
      },
      "execution_count": 23,
      "outputs": [
        {
          "output_type": "stream",
          "name": "stdout",
          "text": [
            "<class 'pandas.core.frame.DataFrame'>\n",
            "RangeIndex: 716 entries, 0 to 715\n",
            "Data columns (total 12 columns):\n",
            " #   Column       Non-Null Count  Dtype         \n",
            "---  ------       --------------  -----         \n",
            " 0   Metric ID    716 non-null    string        \n",
            " 1   Ad ID        716 non-null    string        \n",
            " 2   Day          716 non-null    datetime64[ns]\n",
            " 3   Spend        716 non-null    float64       \n",
            " 4   Impressions  716 non-null    int64         \n",
            " 5   Average CPM  716 non-null    float64       \n",
            " 6   Clicks       716 non-null    float64       \n",
            " 7   Lead         716 non-null    float64       \n",
            " 8   CPL          716 non-null    float64       \n",
            " 9   Avg CTR      637 non-null    float64       \n",
            " 10  Avg CPC      527 non-null    float64       \n",
            " 11  CR           527 non-null    float64       \n",
            "dtypes: datetime64[ns](1), float64(8), int64(1), string(2)\n",
            "memory usage: 67.2 KB\n"
          ]
        }
      ]
    },
    {
      "cell_type": "markdown",
      "source": [
        "Các trường CPL khi ko có lead sẽ phát sinh ra kiểu dữ liệu NaN\n",
        "->Fill NaN =  giá trị 0"
      ],
      "metadata": {
        "id": "z9roSphYvsoF"
      }
    },
    {
      "cell_type": "code",
      "source": [
        "metrics = metrics.fillna(0)"
      ],
      "metadata": {
        "id": "Y2PNrVhTvgoJ"
      },
      "execution_count": 24,
      "outputs": []
    },
    {
      "cell_type": "markdown",
      "source": [
        "Kiểm tra Outlier data"
      ],
      "metadata": {
        "id": "3negKF8S3iVa"
      }
    },
    {
      "cell_type": "code",
      "source": [
        "metrics.info()\n"
      ],
      "metadata": {
        "colab": {
          "base_uri": "https://localhost:8080/"
        },
        "id": "6gUDiz9G437l",
        "outputId": "6815f2f8-0b7e-41d3-e493-0cb0ff83b9a0"
      },
      "execution_count": 25,
      "outputs": [
        {
          "output_type": "stream",
          "name": "stdout",
          "text": [
            "<class 'pandas.core.frame.DataFrame'>\n",
            "RangeIndex: 716 entries, 0 to 715\n",
            "Data columns (total 12 columns):\n",
            " #   Column       Non-Null Count  Dtype         \n",
            "---  ------       --------------  -----         \n",
            " 0   Metric ID    716 non-null    string        \n",
            " 1   Ad ID        716 non-null    string        \n",
            " 2   Day          716 non-null    datetime64[ns]\n",
            " 3   Spend        716 non-null    float64       \n",
            " 4   Impressions  716 non-null    int64         \n",
            " 5   Average CPM  716 non-null    float64       \n",
            " 6   Clicks       716 non-null    float64       \n",
            " 7   Lead         716 non-null    float64       \n",
            " 8   CPL          716 non-null    float64       \n",
            " 9   Avg CTR      716 non-null    float64       \n",
            " 10  Avg CPC      716 non-null    float64       \n",
            " 11  CR           716 non-null    float64       \n",
            "dtypes: datetime64[ns](1), float64(8), int64(1), string(2)\n",
            "memory usage: 67.2 KB\n"
          ]
        }
      ]
    },
    {
      "cell_type": "markdown",
      "source": [
        "Lưu dữ liệu đã được xử lý vào data warehouse\n"
      ],
      "metadata": {
        "id": "VlQWOCnNmAXf"
      }
    },
    {
      "cell_type": "code",
      "source": [
        "db_path = 'data_warehouse.db'\n",
        "warehouse_engine = create_engine(f'sqlite:///{db_path}')\n",
        "campaigns.to_sql('Campaign', con=warehouse_engine, if_exists='replace', index=False)\n",
        "targets.to_sql('Target', con=warehouse_engine, if_exists='replace', index=False)\n",
        "ads.to_sql('Ad', con=warehouse_engine, if_exists='replace', index=False)\n",
        "metrics.to_sql('Metrics', con=warehouse_engine, if_exists='replace', index=False)"
      ],
      "metadata": {
        "id": "INLyucl3mIZO"
      },
      "execution_count": null,
      "outputs": []
    },
    {
      "cell_type": "markdown",
      "source": [
        "# **II. Correlation calculation**"
      ],
      "metadata": {
        "id": "PGXRkiyx61Kj"
      }
    },
    {
      "cell_type": "markdown",
      "source": [
        "Lọc ra các trường là dữ liệu số"
      ],
      "metadata": {
        "id": "qW94Nd3kh7X3"
      }
    },
    {
      "cell_type": "code",
      "source": [
        "# Select only numeric columns\n",
        "numeric_cols = metrics.select_dtypes(include=[np.number]).columns.tolist()\n",
        "num_metrics = metrics[numeric_cols]\n",
        "\n",
        "# Calculate correlation\n",
        "metrics_corr = metrics[numeric_cols].corr()\n",
        "metrics_corr"
      ],
      "metadata": {
        "colab": {
          "base_uri": "https://localhost:8080/",
          "height": 331
        },
        "id": "JAs8a83fiBvB",
        "outputId": "529b5b5d-2f5d-4720-c60f-642d589079cc"
      },
      "execution_count": 26,
      "outputs": [
        {
          "output_type": "execute_result",
          "data": {
            "text/plain": [
              "                Spend  Impressions  Average CPM    Clicks      Lead       CPL  \\\n",
              "Spend        1.000000     0.126443     0.319872  0.154857  0.475879  0.633612   \n",
              "Impressions  0.126443     1.000000    -0.123579  0.330900 -0.061394 -0.032331   \n",
              "Average CPM  0.319872    -0.123579     1.000000 -0.099886  0.362853  0.139004   \n",
              "Clicks       0.154857     0.330900    -0.099886  1.000000 -0.022500 -0.015095   \n",
              "Lead         0.475879    -0.061394     0.362853 -0.022500  1.000000  0.443906   \n",
              "CPL          0.633612    -0.032331     0.139004 -0.015095  0.443906  1.000000   \n",
              "Avg CTR      0.157757    -0.097873     0.614853  0.292158  0.339019  0.061042   \n",
              "Avg CPC      0.258147    -0.124874     0.179944 -0.228864  0.067148  0.107309   \n",
              "CR           0.197897    -0.067431     0.175214 -0.081864  0.571746  0.325034   \n",
              "\n",
              "              Avg CTR   Avg CPC        CR  \n",
              "Spend        0.157757  0.258147  0.197897  \n",
              "Impressions -0.097873 -0.124874 -0.067431  \n",
              "Average CPM  0.614853  0.179944  0.175214  \n",
              "Clicks       0.292158 -0.228864 -0.081864  \n",
              "Lead         0.339019  0.067148  0.571746  \n",
              "CPL          0.061042  0.107309  0.325034  \n",
              "Avg CTR      1.000000 -0.111212  0.124133  \n",
              "Avg CPC     -0.111212  1.000000  0.222571  \n",
              "CR           0.124133  0.222571  1.000000  "
            ],
            "text/html": [
              "\n",
              "  <div id=\"df-dc822bb0-2629-45a0-be03-4928c91cfcd0\" class=\"colab-df-container\">\n",
              "    <div>\n",
              "<style scoped>\n",
              "    .dataframe tbody tr th:only-of-type {\n",
              "        vertical-align: middle;\n",
              "    }\n",
              "\n",
              "    .dataframe tbody tr th {\n",
              "        vertical-align: top;\n",
              "    }\n",
              "\n",
              "    .dataframe thead th {\n",
              "        text-align: right;\n",
              "    }\n",
              "</style>\n",
              "<table border=\"1\" class=\"dataframe\">\n",
              "  <thead>\n",
              "    <tr style=\"text-align: right;\">\n",
              "      <th></th>\n",
              "      <th>Spend</th>\n",
              "      <th>Impressions</th>\n",
              "      <th>Average CPM</th>\n",
              "      <th>Clicks</th>\n",
              "      <th>Lead</th>\n",
              "      <th>CPL</th>\n",
              "      <th>Avg CTR</th>\n",
              "      <th>Avg CPC</th>\n",
              "      <th>CR</th>\n",
              "    </tr>\n",
              "  </thead>\n",
              "  <tbody>\n",
              "    <tr>\n",
              "      <th>Spend</th>\n",
              "      <td>1.000000</td>\n",
              "      <td>0.126443</td>\n",
              "      <td>0.319872</td>\n",
              "      <td>0.154857</td>\n",
              "      <td>0.475879</td>\n",
              "      <td>0.633612</td>\n",
              "      <td>0.157757</td>\n",
              "      <td>0.258147</td>\n",
              "      <td>0.197897</td>\n",
              "    </tr>\n",
              "    <tr>\n",
              "      <th>Impressions</th>\n",
              "      <td>0.126443</td>\n",
              "      <td>1.000000</td>\n",
              "      <td>-0.123579</td>\n",
              "      <td>0.330900</td>\n",
              "      <td>-0.061394</td>\n",
              "      <td>-0.032331</td>\n",
              "      <td>-0.097873</td>\n",
              "      <td>-0.124874</td>\n",
              "      <td>-0.067431</td>\n",
              "    </tr>\n",
              "    <tr>\n",
              "      <th>Average CPM</th>\n",
              "      <td>0.319872</td>\n",
              "      <td>-0.123579</td>\n",
              "      <td>1.000000</td>\n",
              "      <td>-0.099886</td>\n",
              "      <td>0.362853</td>\n",
              "      <td>0.139004</td>\n",
              "      <td>0.614853</td>\n",
              "      <td>0.179944</td>\n",
              "      <td>0.175214</td>\n",
              "    </tr>\n",
              "    <tr>\n",
              "      <th>Clicks</th>\n",
              "      <td>0.154857</td>\n",
              "      <td>0.330900</td>\n",
              "      <td>-0.099886</td>\n",
              "      <td>1.000000</td>\n",
              "      <td>-0.022500</td>\n",
              "      <td>-0.015095</td>\n",
              "      <td>0.292158</td>\n",
              "      <td>-0.228864</td>\n",
              "      <td>-0.081864</td>\n",
              "    </tr>\n",
              "    <tr>\n",
              "      <th>Lead</th>\n",
              "      <td>0.475879</td>\n",
              "      <td>-0.061394</td>\n",
              "      <td>0.362853</td>\n",
              "      <td>-0.022500</td>\n",
              "      <td>1.000000</td>\n",
              "      <td>0.443906</td>\n",
              "      <td>0.339019</td>\n",
              "      <td>0.067148</td>\n",
              "      <td>0.571746</td>\n",
              "    </tr>\n",
              "    <tr>\n",
              "      <th>CPL</th>\n",
              "      <td>0.633612</td>\n",
              "      <td>-0.032331</td>\n",
              "      <td>0.139004</td>\n",
              "      <td>-0.015095</td>\n",
              "      <td>0.443906</td>\n",
              "      <td>1.000000</td>\n",
              "      <td>0.061042</td>\n",
              "      <td>0.107309</td>\n",
              "      <td>0.325034</td>\n",
              "    </tr>\n",
              "    <tr>\n",
              "      <th>Avg CTR</th>\n",
              "      <td>0.157757</td>\n",
              "      <td>-0.097873</td>\n",
              "      <td>0.614853</td>\n",
              "      <td>0.292158</td>\n",
              "      <td>0.339019</td>\n",
              "      <td>0.061042</td>\n",
              "      <td>1.000000</td>\n",
              "      <td>-0.111212</td>\n",
              "      <td>0.124133</td>\n",
              "    </tr>\n",
              "    <tr>\n",
              "      <th>Avg CPC</th>\n",
              "      <td>0.258147</td>\n",
              "      <td>-0.124874</td>\n",
              "      <td>0.179944</td>\n",
              "      <td>-0.228864</td>\n",
              "      <td>0.067148</td>\n",
              "      <td>0.107309</td>\n",
              "      <td>-0.111212</td>\n",
              "      <td>1.000000</td>\n",
              "      <td>0.222571</td>\n",
              "    </tr>\n",
              "    <tr>\n",
              "      <th>CR</th>\n",
              "      <td>0.197897</td>\n",
              "      <td>-0.067431</td>\n",
              "      <td>0.175214</td>\n",
              "      <td>-0.081864</td>\n",
              "      <td>0.571746</td>\n",
              "      <td>0.325034</td>\n",
              "      <td>0.124133</td>\n",
              "      <td>0.222571</td>\n",
              "      <td>1.000000</td>\n",
              "    </tr>\n",
              "  </tbody>\n",
              "</table>\n",
              "</div>\n",
              "    <div class=\"colab-df-buttons\">\n",
              "\n",
              "  <div class=\"colab-df-container\">\n",
              "    <button class=\"colab-df-convert\" onclick=\"convertToInteractive('df-dc822bb0-2629-45a0-be03-4928c91cfcd0')\"\n",
              "            title=\"Convert this dataframe to an interactive table.\"\n",
              "            style=\"display:none;\">\n",
              "\n",
              "  <svg xmlns=\"http://www.w3.org/2000/svg\" height=\"24px\" viewBox=\"0 -960 960 960\">\n",
              "    <path d=\"M120-120v-720h720v720H120Zm60-500h600v-160H180v160Zm220 220h160v-160H400v160Zm0 220h160v-160H400v160ZM180-400h160v-160H180v160Zm440 0h160v-160H620v160ZM180-180h160v-160H180v160Zm440 0h160v-160H620v160Z\"/>\n",
              "  </svg>\n",
              "    </button>\n",
              "\n",
              "  <style>\n",
              "    .colab-df-container {\n",
              "      display:flex;\n",
              "      gap: 12px;\n",
              "    }\n",
              "\n",
              "    .colab-df-convert {\n",
              "      background-color: #E8F0FE;\n",
              "      border: none;\n",
              "      border-radius: 50%;\n",
              "      cursor: pointer;\n",
              "      display: none;\n",
              "      fill: #1967D2;\n",
              "      height: 32px;\n",
              "      padding: 0 0 0 0;\n",
              "      width: 32px;\n",
              "    }\n",
              "\n",
              "    .colab-df-convert:hover {\n",
              "      background-color: #E2EBFA;\n",
              "      box-shadow: 0px 1px 2px rgba(60, 64, 67, 0.3), 0px 1px 3px 1px rgba(60, 64, 67, 0.15);\n",
              "      fill: #174EA6;\n",
              "    }\n",
              "\n",
              "    .colab-df-buttons div {\n",
              "      margin-bottom: 4px;\n",
              "    }\n",
              "\n",
              "    [theme=dark] .colab-df-convert {\n",
              "      background-color: #3B4455;\n",
              "      fill: #D2E3FC;\n",
              "    }\n",
              "\n",
              "    [theme=dark] .colab-df-convert:hover {\n",
              "      background-color: #434B5C;\n",
              "      box-shadow: 0px 1px 3px 1px rgba(0, 0, 0, 0.15);\n",
              "      filter: drop-shadow(0px 1px 2px rgba(0, 0, 0, 0.3));\n",
              "      fill: #FFFFFF;\n",
              "    }\n",
              "  </style>\n",
              "\n",
              "    <script>\n",
              "      const buttonEl =\n",
              "        document.querySelector('#df-dc822bb0-2629-45a0-be03-4928c91cfcd0 button.colab-df-convert');\n",
              "      buttonEl.style.display =\n",
              "        google.colab.kernel.accessAllowed ? 'block' : 'none';\n",
              "\n",
              "      async function convertToInteractive(key) {\n",
              "        const element = document.querySelector('#df-dc822bb0-2629-45a0-be03-4928c91cfcd0');\n",
              "        const dataTable =\n",
              "          await google.colab.kernel.invokeFunction('convertToInteractive',\n",
              "                                                    [key], {});\n",
              "        if (!dataTable) return;\n",
              "\n",
              "        const docLinkHtml = 'Like what you see? Visit the ' +\n",
              "          '<a target=\"_blank\" href=https://colab.research.google.com/notebooks/data_table.ipynb>data table notebook</a>'\n",
              "          + ' to learn more about interactive tables.';\n",
              "        element.innerHTML = '';\n",
              "        dataTable['output_type'] = 'display_data';\n",
              "        await google.colab.output.renderOutput(dataTable, element);\n",
              "        const docLink = document.createElement('div');\n",
              "        docLink.innerHTML = docLinkHtml;\n",
              "        element.appendChild(docLink);\n",
              "      }\n",
              "    </script>\n",
              "  </div>\n",
              "\n",
              "\n",
              "<div id=\"df-1ec5e468-b4a7-4d38-93b7-52c09e134d94\">\n",
              "  <button class=\"colab-df-quickchart\" onclick=\"quickchart('df-1ec5e468-b4a7-4d38-93b7-52c09e134d94')\"\n",
              "            title=\"Suggest charts\"\n",
              "            style=\"display:none;\">\n",
              "\n",
              "<svg xmlns=\"http://www.w3.org/2000/svg\" height=\"24px\"viewBox=\"0 0 24 24\"\n",
              "     width=\"24px\">\n",
              "    <g>\n",
              "        <path d=\"M19 3H5c-1.1 0-2 .9-2 2v14c0 1.1.9 2 2 2h14c1.1 0 2-.9 2-2V5c0-1.1-.9-2-2-2zM9 17H7v-7h2v7zm4 0h-2V7h2v10zm4 0h-2v-4h2v4z\"/>\n",
              "    </g>\n",
              "</svg>\n",
              "  </button>\n",
              "\n",
              "<style>\n",
              "  .colab-df-quickchart {\n",
              "      --bg-color: #E8F0FE;\n",
              "      --fill-color: #1967D2;\n",
              "      --hover-bg-color: #E2EBFA;\n",
              "      --hover-fill-color: #174EA6;\n",
              "      --disabled-fill-color: #AAA;\n",
              "      --disabled-bg-color: #DDD;\n",
              "  }\n",
              "\n",
              "  [theme=dark] .colab-df-quickchart {\n",
              "      --bg-color: #3B4455;\n",
              "      --fill-color: #D2E3FC;\n",
              "      --hover-bg-color: #434B5C;\n",
              "      --hover-fill-color: #FFFFFF;\n",
              "      --disabled-bg-color: #3B4455;\n",
              "      --disabled-fill-color: #666;\n",
              "  }\n",
              "\n",
              "  .colab-df-quickchart {\n",
              "    background-color: var(--bg-color);\n",
              "    border: none;\n",
              "    border-radius: 50%;\n",
              "    cursor: pointer;\n",
              "    display: none;\n",
              "    fill: var(--fill-color);\n",
              "    height: 32px;\n",
              "    padding: 0;\n",
              "    width: 32px;\n",
              "  }\n",
              "\n",
              "  .colab-df-quickchart:hover {\n",
              "    background-color: var(--hover-bg-color);\n",
              "    box-shadow: 0 1px 2px rgba(60, 64, 67, 0.3), 0 1px 3px 1px rgba(60, 64, 67, 0.15);\n",
              "    fill: var(--button-hover-fill-color);\n",
              "  }\n",
              "\n",
              "  .colab-df-quickchart-complete:disabled,\n",
              "  .colab-df-quickchart-complete:disabled:hover {\n",
              "    background-color: var(--disabled-bg-color);\n",
              "    fill: var(--disabled-fill-color);\n",
              "    box-shadow: none;\n",
              "  }\n",
              "\n",
              "  .colab-df-spinner {\n",
              "    border: 2px solid var(--fill-color);\n",
              "    border-color: transparent;\n",
              "    border-bottom-color: var(--fill-color);\n",
              "    animation:\n",
              "      spin 1s steps(1) infinite;\n",
              "  }\n",
              "\n",
              "  @keyframes spin {\n",
              "    0% {\n",
              "      border-color: transparent;\n",
              "      border-bottom-color: var(--fill-color);\n",
              "      border-left-color: var(--fill-color);\n",
              "    }\n",
              "    20% {\n",
              "      border-color: transparent;\n",
              "      border-left-color: var(--fill-color);\n",
              "      border-top-color: var(--fill-color);\n",
              "    }\n",
              "    30% {\n",
              "      border-color: transparent;\n",
              "      border-left-color: var(--fill-color);\n",
              "      border-top-color: var(--fill-color);\n",
              "      border-right-color: var(--fill-color);\n",
              "    }\n",
              "    40% {\n",
              "      border-color: transparent;\n",
              "      border-right-color: var(--fill-color);\n",
              "      border-top-color: var(--fill-color);\n",
              "    }\n",
              "    60% {\n",
              "      border-color: transparent;\n",
              "      border-right-color: var(--fill-color);\n",
              "    }\n",
              "    80% {\n",
              "      border-color: transparent;\n",
              "      border-right-color: var(--fill-color);\n",
              "      border-bottom-color: var(--fill-color);\n",
              "    }\n",
              "    90% {\n",
              "      border-color: transparent;\n",
              "      border-bottom-color: var(--fill-color);\n",
              "    }\n",
              "  }\n",
              "</style>\n",
              "\n",
              "  <script>\n",
              "    async function quickchart(key) {\n",
              "      const quickchartButtonEl =\n",
              "        document.querySelector('#' + key + ' button');\n",
              "      quickchartButtonEl.disabled = true;  // To prevent multiple clicks.\n",
              "      quickchartButtonEl.classList.add('colab-df-spinner');\n",
              "      try {\n",
              "        const charts = await google.colab.kernel.invokeFunction(\n",
              "            'suggestCharts', [key], {});\n",
              "      } catch (error) {\n",
              "        console.error('Error during call to suggestCharts:', error);\n",
              "      }\n",
              "      quickchartButtonEl.classList.remove('colab-df-spinner');\n",
              "      quickchartButtonEl.classList.add('colab-df-quickchart-complete');\n",
              "    }\n",
              "    (() => {\n",
              "      let quickchartButtonEl =\n",
              "        document.querySelector('#df-1ec5e468-b4a7-4d38-93b7-52c09e134d94 button');\n",
              "      quickchartButtonEl.style.display =\n",
              "        google.colab.kernel.accessAllowed ? 'block' : 'none';\n",
              "    })();\n",
              "  </script>\n",
              "</div>\n",
              "\n",
              "  <div id=\"id_4128de5e-e779-4fe3-b80f-2efddae2f839\">\n",
              "    <style>\n",
              "      .colab-df-generate {\n",
              "        background-color: #E8F0FE;\n",
              "        border: none;\n",
              "        border-radius: 50%;\n",
              "        cursor: pointer;\n",
              "        display: none;\n",
              "        fill: #1967D2;\n",
              "        height: 32px;\n",
              "        padding: 0 0 0 0;\n",
              "        width: 32px;\n",
              "      }\n",
              "\n",
              "      .colab-df-generate:hover {\n",
              "        background-color: #E2EBFA;\n",
              "        box-shadow: 0px 1px 2px rgba(60, 64, 67, 0.3), 0px 1px 3px 1px rgba(60, 64, 67, 0.15);\n",
              "        fill: #174EA6;\n",
              "      }\n",
              "\n",
              "      [theme=dark] .colab-df-generate {\n",
              "        background-color: #3B4455;\n",
              "        fill: #D2E3FC;\n",
              "      }\n",
              "\n",
              "      [theme=dark] .colab-df-generate:hover {\n",
              "        background-color: #434B5C;\n",
              "        box-shadow: 0px 1px 3px 1px rgba(0, 0, 0, 0.15);\n",
              "        filter: drop-shadow(0px 1px 2px rgba(0, 0, 0, 0.3));\n",
              "        fill: #FFFFFF;\n",
              "      }\n",
              "    </style>\n",
              "    <button class=\"colab-df-generate\" onclick=\"generateWithVariable('metrics_corr')\"\n",
              "            title=\"Generate code using this dataframe.\"\n",
              "            style=\"display:none;\">\n",
              "\n",
              "  <svg xmlns=\"http://www.w3.org/2000/svg\" height=\"24px\"viewBox=\"0 0 24 24\"\n",
              "       width=\"24px\">\n",
              "    <path d=\"M7,19H8.4L18.45,9,17,7.55,7,17.6ZM5,21V16.75L18.45,3.32a2,2,0,0,1,2.83,0l1.4,1.43a1.91,1.91,0,0,1,.58,1.4,1.91,1.91,0,0,1-.58,1.4L9.25,21ZM18.45,9,17,7.55Zm-12,3A5.31,5.31,0,0,0,4.9,8.1,5.31,5.31,0,0,0,1,6.5,5.31,5.31,0,0,0,4.9,4.9,5.31,5.31,0,0,0,6.5,1,5.31,5.31,0,0,0,8.1,4.9,5.31,5.31,0,0,0,12,6.5,5.46,5.46,0,0,0,6.5,12Z\"/>\n",
              "  </svg>\n",
              "    </button>\n",
              "    <script>\n",
              "      (() => {\n",
              "      const buttonEl =\n",
              "        document.querySelector('#id_4128de5e-e779-4fe3-b80f-2efddae2f839 button.colab-df-generate');\n",
              "      buttonEl.style.display =\n",
              "        google.colab.kernel.accessAllowed ? 'block' : 'none';\n",
              "\n",
              "      buttonEl.onclick = () => {\n",
              "        google.colab.notebook.generateWithVariable('metrics_corr');\n",
              "      }\n",
              "      })();\n",
              "    </script>\n",
              "  </div>\n",
              "\n",
              "    </div>\n",
              "  </div>\n"
            ],
            "application/vnd.google.colaboratory.intrinsic+json": {
              "type": "dataframe",
              "variable_name": "metrics_corr",
              "summary": "{\n  \"name\": \"metrics_corr\",\n  \"rows\": 9,\n  \"fields\": [\n    {\n      \"column\": \"Spend\",\n      \"properties\": {\n        \"dtype\": \"number\",\n        \"std\": 0.2900205723652184,\n        \"min\": 0.12644326654000895,\n        \"max\": 1.0,\n        \"num_unique_values\": 9,\n        \"samples\": [\n          0.258146903826916,\n          0.12644326654000895,\n          0.6336117683980255\n        ],\n        \"semantic_type\": \"\",\n        \"description\": \"\"\n      }\n    },\n    {\n      \"column\": \"Impressions\",\n      \"properties\": {\n        \"dtype\": \"number\",\n        \"std\": 0.3665787937768653,\n        \"min\": -0.12487365448209434,\n        \"max\": 1.0,\n        \"num_unique_values\": 9,\n        \"samples\": [\n          -0.12487365448209434,\n          1.0,\n          -0.03233095929958579\n        ],\n        \"semantic_type\": \"\",\n        \"description\": \"\"\n      }\n    },\n    {\n      \"column\": \"Average CPM\",\n      \"properties\": {\n        \"dtype\": \"number\",\n        \"std\": 0.35120917132021023,\n        \"min\": -0.12357933419925476,\n        \"max\": 1.0,\n        \"num_unique_values\": 9,\n        \"samples\": [\n          0.1799444030345515,\n          -0.12357933419925476,\n          0.13900389022098508\n        ],\n        \"semantic_type\": \"\",\n        \"description\": \"\"\n      }\n    },\n    {\n      \"column\": \"Clicks\",\n      \"properties\": {\n        \"dtype\": \"number\",\n        \"std\": 0.36948706197368664,\n        \"min\": -0.22886366239214379,\n        \"max\": 1.0,\n        \"num_unique_values\": 9,\n        \"samples\": [\n          -0.22886366239214379,\n          0.33089979320159063,\n          -0.015094582516487109\n        ],\n        \"semantic_type\": \"\",\n        \"description\": \"\"\n      }\n    },\n    {\n      \"column\": \"Lead\",\n      \"properties\": {\n        \"dtype\": \"number\",\n        \"std\": 0.3325185238220952,\n        \"min\": -0.06139424666576642,\n        \"max\": 1.0,\n        \"num_unique_values\": 9,\n        \"samples\": [\n          0.06714789805436995,\n          -0.06139424666576642,\n          0.44390591763761617\n        ],\n        \"semantic_type\": \"\",\n        \"description\": \"\"\n      }\n    },\n    {\n      \"column\": \"CPL\",\n      \"properties\": {\n        \"dtype\": \"number\",\n        \"std\": 0.34502812987136655,\n        \"min\": -0.03233095929958579,\n        \"max\": 1.0,\n        \"num_unique_values\": 9,\n        \"samples\": [\n          0.10730865366529566,\n          -0.03233095929958579,\n          1.0\n        ],\n        \"semantic_type\": \"\",\n        \"description\": \"\"\n      }\n    },\n    {\n      \"column\": \"Avg CTR\",\n      \"properties\": {\n        \"dtype\": \"number\",\n        \"std\": 0.3561937360599664,\n        \"min\": -0.11121202272177573,\n        \"max\": 1.0,\n        \"num_unique_values\": 9,\n        \"samples\": [\n          -0.11121202272177573,\n          -0.09787300125899147,\n          0.0610416405498629\n        ],\n        \"semantic_type\": \"\",\n        \"description\": \"\"\n      }\n    },\n    {\n      \"column\": \"Avg CPC\",\n      \"properties\": {\n        \"dtype\": \"number\",\n        \"std\": 0.35991764809153803,\n        \"min\": -0.22886366239214379,\n        \"max\": 1.0,\n        \"num_unique_values\": 9,\n        \"samples\": [\n          1.0,\n          -0.12487365448209434,\n          0.10730865366529566\n        ],\n        \"semantic_type\": \"\",\n        \"description\": \"\"\n      }\n    },\n    {\n      \"column\": \"CR\",\n      \"properties\": {\n        \"dtype\": \"number\",\n        \"std\": 0.33582043758579916,\n        \"min\": -0.0818643179135172,\n        \"max\": 1.0,\n        \"num_unique_values\": 9,\n        \"samples\": [\n          0.22257096390598113,\n          -0.06743111650914053,\n          0.3250341469504305\n        ],\n        \"semantic_type\": \"\",\n        \"description\": \"\"\n      }\n    }\n  ]\n}"
            }
          },
          "metadata": {},
          "execution_count": 26
        }
      ]
    },
    {
      "cell_type": "markdown",
      "source": [
        "Hãy xem các mỗi liên hệ giữa các cặp data trong data frame 'metrics'"
      ],
      "metadata": {
        "id": "C4HG-FA3N_le"
      }
    },
    {
      "cell_type": "code",
      "source": [
        "plt.figure(figsize=(10, 8))\n",
        "sns.heatmap(metrics_corr, annot=True, cmap='coolwarm')\n",
        "plt.title('Metrics Dataset Correlation Matrix')\n",
        "plt.show()"
      ],
      "metadata": {
        "colab": {
          "base_uri": "https://localhost:8080/",
          "height": 776
        },
        "id": "6UmR2Qj6hmY3",
        "outputId": "8296bc11-4e91-404f-d5cd-64bbb5ab53c4"
      },
      "execution_count": 28,
      "outputs": [
        {
          "output_type": "display_data",
          "data": {
            "text/plain": [
              "<Figure size 1000x800 with 2 Axes>"
            ],
            "image/png": "[encoded data removed]"
          },
          "metadata": {}
        }
      ]
    },
    {
      "cell_type": "markdown",
      "source": [
        "Dựa trên ma trận tương quan bạn cung cấp, đây là phân tích chi tiết về mối quan hệ giữa các chỉ số quảng cáo khác nhau:\n",
        "\n",
        "**1. Chi tiêu vs CPL (Chi phí mỗi khách hàng tiềm năng)**\n",
        "Tương quan: 0.63\n",
        "Phân tích: Có mối tương quan tích cực mạnh, cho thấy khi chi tiêu tăng lên, chi phí mỗi khách hàng tiềm năng cũng có xu hướng tăng. Điều này cho thấy việc tăng chi tiêu có thể tạo ra nhiều khách hàng tiềm năng hơn nhưng chi phí để thu hút mỗi khách hàng lại cao hơn.\n",
        "\n",
        "**2. Chi tiêu vs Số khách hàng tiềm năng**\n",
        "Tương quan: 0.48\n",
        "Phân tích: Mối tương quan tích cực vừa phải cho thấy việc tăng chi tiêu thường dẫn đến sự tăng lên của số khách hàng tiềm năng được tạo ra, điều này là dễ hiểu trong hầu hết các kịch bản quảng cáo.\n",
        "\n",
        "**3. Số lượt nhấp vs Số khách hàng tiềm năng**\n",
        "Tương quan: -0.022\n",
        "Phân tích: Có mối tương quan tiêu cực rất yếu, cho thấy hầu như không có mối quan hệ trực tiếp nào giữa số lượt nhấp và số khách hàng tiềm năng. Điều này có thể ngụ ý rằng mặc dù các lượt nhấp được tạo ra, nhưng chúng có thể không hiệu quả trong việc chuyển đổi thành khách hàng tiềm năng.\n",
        "\n",
        "**4. CPM trung bình (Chi phí mỗi ngàn lượt hiển thị) vs CPC trung bình (Chi phí mỗi lượt nhấp)**\n",
        "Tương quan: 0.61\n",
        "Phân tích: Có mối tương quan tích cực mạnh, cho thấy các chiến dịch có chi phí cao hơn cho mỗi ngàn lượt hiển thị cũng có xu hướng có chi phí cao hơn cho mỗi lượt nhấp. Điều này hợp lý vì cả hai chỉ số đều liên quan đến hiệu quả chi phí của chiến dịch.\n",
        "\n",
        "**5. Số khách hàng tiềm năng vs Tỷ lệ chuyển đổi (CR)**\n",
        "Tương quan: 0.57\n",
        "Phân tích: Một mối tương quan tích cực mạnh cho thấy việc tăng số lượng khách hàng tiềm năng thường tương ứng với tỷ lệ chuyển đổi cao hơn. Điều này có thể ngụ ý rằng việc nhắm mục tiêu hiệu quả hơn hoặc thu hút khách hàng tiềm năng chất lượng cao hơn đã được thực hiện, dẫn đến tỷ lệ chuyển đổi tốt hơn.\n",
        "\n",
        "**6. Số lượt hiển thị vs Số lượt nhấp**\n",
        "Tương quan: 0.33\n",
        "Phân tích: Mối tương quan tích cực vừa phải, điều này là dễ hiểu vì nhiều lượt hiển thị thường tạo ra nhiều cơ hội để nhận được lượt nhấp, mặc dù mối tương quan không mạnh lắm, cho thấy không phải tất cả các lượt hiển thị đều dẫn đến lượt nhấp.\n",
        "\n",
        "**7. Tỷ lệ nhấp trung bình (CTR) vs Tỷ lệ chuyển đổi (CR)**\n",
        "Tương quan: 0.12\n",
        "Phân tích: Mối tương quan tích cực yếu cho thấy tỷ lệ nhấp cao hơn chỉ góp phần nhỏ vào việc cải thiện tỷ lệ chuyển đổi. Điều này cho thấy trong khi CTR quan trọng, nhưng nó không phải là yếu tố duy nhất ảnh hưởng đến chuyển đổi.\n",
        "\n",
        "**8. CPM trung bình vs Số lượt hiển thị**\n",
        "Tương quan: -0.12\n",
        "Phân tích: Mối tương quan tiêu cực yếu này cho thấy khi chi phí mỗi ngàn lượt hiển thị giảm, số lượt hiển thị có thể tăng lên một chút. Điều này có thể ngụ ý hiệu quả ngân sách tốt hơn trong việc tiếp cận đối tượng lớn hơn với chi phí thấp hơn."
      ],
      "metadata": {
        "id": "o1cPGrUkj75S"
      }
    },
    {
      "cell_type": "code",
      "source": [
        "plt.figure(figsize=(10, 8))\n",
        "sns.scatterplot(data=metrics, x='Lead', y='CPL')\n",
        "plt.xlabel('Lead')\n",
        "plt.ylabel('CPL')\n",
        "\n",
        "plt.title('Scatter Plot of Lead vs Spend')\n",
        "plt.show()"
      ],
      "metadata": {
        "colab": {
          "base_uri": "https://localhost:8080/",
          "height": 718
        },
        "id": "8bxI-3GOPt7n",
        "outputId": "861d641c-4769-4a50-8416-8da977f6de99"
      },
      "execution_count": 30,
      "outputs": [
        {
          "output_type": "display_data",
          "data": {
            "text/plain": [
              "<Figure size 1000x800 with 1 Axes>"
            ],
            "image/png": "[encoded data removed]"
          },
          "metadata": {}
        }
      ]
    },
    {
      "cell_type": "markdown",
      "source": [
        "# **III.  Linear regression & Prediction**"
      ],
      "metadata": {
        "id": "GlVTtdT6n78B"
      }
    },
    {
      "cell_type": "markdown",
      "source": [
        "## Multiple Linear Regression\n",
        "**Dự đoán số lượng Lead dựa vào ads spend, clicks, avg CTR, CR **"
      ],
      "metadata": {
        "id": "7udOVF9rPGD2"
      }
    },
    {
      "cell_type": "code",
      "source": [
        "x = metrics[['Spend','Clicks','Avg CTR','CR']]\n",
        "y = metrics['Lead']\n",
        "x = sm.add_constant(x)\n",
        "model = sm.OLS(y, x).fit()\n",
        "print(model.summary())"
      ],
      "metadata": {
        "colab": {
          "base_uri": "https://localhost:8080/"
        },
        "id": "QUlKevTClk7_",
        "outputId": "13681a45-4a20-4ea0-817b-1ddbfd889625"
      },
      "execution_count": 43,
      "outputs": [
        {
          "output_type": "stream",
          "name": "stdout",
          "text": [
            "                            OLS Regression Results                            \n",
            "==============================================================================\n",
            "Dep. Variable:                   Lead   R-squared:                       0.525\n",
            "Model:                            OLS   Adj. R-squared:                  0.522\n",
            "Method:                 Least Squares   F-statistic:                     196.4\n",
            "Date:                Sun, 30 Jun 2024   Prob (F-statistic):          2.25e-113\n",
            "Time:                        15:14:41   Log-Likelihood:                -626.78\n",
            "No. Observations:                 716   AIC:                             1264.\n",
            "Df Residuals:                     711   BIC:                             1286.\n",
            "Df Model:                           4                                         \n",
            "Covariance Type:            nonrobust                                         \n",
            "==============================================================================\n",
            "                 coef    std err          t      P>|t|      [0.025      0.975]\n",
            "------------------------------------------------------------------------------\n",
            "const         -0.1662      0.030     -5.547      0.000      -0.225      -0.107\n",
            "Spend        1.58e-06   1.17e-07     13.477      0.000    1.35e-06    1.81e-06\n",
            "Clicks        -0.0017      0.000     -4.245      0.000      -0.003      -0.001\n",
            "Avg CTR        0.0761      0.008      9.432      0.000       0.060       0.092\n",
            "CR             4.6363      0.271     17.107      0.000       4.104       5.168\n",
            "==============================================================================\n",
            "Omnibus:                      753.714   Durbin-Watson:                   1.259\n",
            "Prob(Omnibus):                  0.000   Jarque-Bera (JB):           119521.484\n",
            "Skew:                           4.459   Prob(JB):                         0.00\n",
            "Kurtosis:                      65.664   Cond. No.                     3.07e+06\n",
            "==============================================================================\n",
            "\n",
            "Notes:\n",
            "[1] Standard Errors assume that the covariance matrix of the errors is correctly specified.\n",
            "[2] The condition number is large, 3.07e+06. This might indicate that there are\n",
            "strong multicollinearity or other numerical problems.\n"
          ]
        }
      ]
    },
    {
      "cell_type": "markdown",
      "source": [
        "Dựa trên kết quả hồi quy OLS được cung cấp, chúng ta sẽ đánh giá các chỉ số liên quan tới biến phụ thuộc Lead. Dưới đây là phân tích chi tiết:\n",
        "\n",
        "**R-squared và Adjusted R-squared**\n",
        "*R-squared: 0.525. *\n",
        "Điều này có nghĩa là mô hình giải thích được 52.5% biến thiên của biến phụ thuộc Lead.\n",
        "\n",
        "*Adjusted R-squared: 0.522.*\n",
        "Giá trị này điều chỉnh cho số lượng biến độc lập trong mô hình. 52.2% vẫn là một mức độ giải thích khá tốt.\n",
        "\n",
        "**Các hệ số hồi quy (Coefficients)**\n",
        "Dưới đây là các hệ số ước lượng, cùng với giá trị t và p-value tương ứng:\n",
        "\n",
        "**const (Intercept): -0.1662**\n",
        "t-value: -5.547\n",
        "P>|t|: 0.000\n",
        "Giá trị p-value rất nhỏ cho thấy hệ số intercept có ý nghĩa thống kê.\n",
        "\n",
        "**Spend: 1.58e-06**\n",
        "t-value: 13.477\n",
        "P>|t|: 0.000\n",
        "Giá trị p-value rất nhỏ, cho thấy biến Spend có ý nghĩa thống kê trong việc dự đoán Lead.\n",
        "\n",
        "**Clicks: -0.0017**\n",
        "t-value: -4.245\n",
        "P>|t|: 0.000\n",
        "Giá trị p-value rất nhỏ, cho thấy biến Clicks có ý nghĩa thống kê trong việc dự đoán Lead.\n",
        "\n",
        "**Avg CTR: 0.0761**\n",
        "t-value: 9.432\n",
        "P>|t|: 0.000\n",
        "Giá trị p-value rất nhỏ, cho thấy biến Avg CTR có ý nghĩa thống kê trong việc dự đoán Lead.\n",
        "\n",
        "**CR: 4.6363**\n",
        "t-value: 17.107\n",
        "P>|t|: 0.000\n",
        "Giá trị p-value rất nhỏ, cho thấy biến CR có ý nghĩa thống kê trong việc dự đoán Lead.\n",
        "\n"
      ],
      "metadata": {
        "id": "P0op9ocbpZCv"
      }
    },
    {
      "cell_type": "markdown",
      "source": [
        "***Kết luận, mô hình này có một số hạn chế như R-squared thấp, dư lượng không tuân theo phân phối chuẩn, và vấn đề đa cộng tuyến, cho thấy cần cải tiến mô hình hoặc xem xét thêm các yếu tố khác có thể ảnh hưởng đến số khách hàng tiềm năng như: content, target audience, các yếu tố thị trường, nhu cầu, ads platform,...**\n"
      ],
      "metadata": {
        "id": "ABQBp17Tum4a"
      }
    },
    {
      "cell_type": "markdown",
      "source": [
        "## Predictation"
      ],
      "metadata": {
        "id": "xJxTo3cbvyGu"
      }
    },
    {
      "cell_type": "markdown",
      "source": [
        "Tạo data set predict\n"
      ],
      "metadata": {
        "id": "b6RGD4Odv2H7"
      }
    },
    {
      "cell_type": "code",
      "source": [
        "# Định nghĩa số lượng mẫu dữ liệu\n",
        "num_samples = 10\n",
        "\n",
        "# Tạo dữ liệu giả định cho các biến\n",
        "np.random.seed(0)  # Để kết quả ngẫu nhiên có thể tái lập\n",
        "data = {\n",
        "    'Spend': np.random.normal(1000000, 10000000, num_samples),  # Giả định chi tiêu trung bình 10000 với độ lệch chuẩn 2000\n",
        "    'Clicks': np.random.normal(200, 50, num_samples),  # Giả định số lần click trung bình 200 với độ lệch chuẩn 50\n",
        "    'Avg CTR': np.random.normal(0.05, 0.01, num_samples),  # Giả định tỷ lệ nhấp chuột trung bình 0.05 với độ lệch chuẩn 0.01\n",
        "    'CR': np.random.normal(0.001, 0.002, num_samples),  # Giả định tỷ lệ chuyển đổi trung bình 0.1 với độ lệch chuẩn 0.02\n",
        "    'Lead': np.random.normal(50, 10, num_samples)  # Giả định số lượng lead trung bình 50 với độ lệch chuẩn 10\n",
        "}\n",
        "\n",
        "# Tạo DataFrame\n",
        "new_data = pd.DataFrame(data)"
      ],
      "metadata": {
        "id": "kYtdKCHOv4zB"
      },
      "execution_count": 50,
      "outputs": []
    },
    {
      "cell_type": "code",
      "source": [
        "predictions = model.predict(new_data)"
      ],
      "metadata": {
        "id": "-xG7S96_yZd6"
      },
      "execution_count": 51,
      "outputs": []
    },
    {
      "cell_type": "code",
      "source": [
        "print(predictions)"
      ],
      "metadata": {
        "colab": {
          "base_uri": "https://localhost:8080/"
        },
        "id": "QIvgRWAuyeFr",
        "outputId": "9b1ca3e2-0ccb-4fff-cedf-277a94e7fffc"
      },
      "execution_count": 58,
      "outputs": [
        {
          "output_type": "stream",
          "name": "stdout",
          "text": [
            "0   -3.097006e+06\n",
            "1   -8.308630e+05\n",
            "2   -1.792209e+06\n",
            "3   -3.889155e+06\n",
            "4   -3.268959e+06\n",
            "5    1.457840e+06\n",
            "6   -1.744585e+06\n",
            "7    8.559968e+04\n",
            "8    5.505226e+03\n",
            "9   -8.481556e+05\n",
            "dtype: float64\n"
          ]
        }
      ]
    },
    {
      "cell_type": "markdown",
      "source": [
        "Mô hình hồi quy đang tạo ra các giá trị dự đoán Lead không hợp lý (bao gồm các giá trị âm và rất lớn). Điều này chỉ ra rằng mô hình dự đoán chưa đủ tính chính xác."
      ],
      "metadata": {
        "id": "Pq3EVkee1-_i"
      }
    }
  ]
}